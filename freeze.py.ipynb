{
 "cells": [
  {
   "cell_type": "code",
   "execution_count": null,
   "id": "366cd519",
   "metadata": {},
   "outputs": [],
   "source": [
    "from flask_frozen import Freezer\n",
    "from app import app\n",
    "from config import base_url\n",
    "\n",
    "if __name__ == '__main__':\n",
    "    app.config[\"FREEZER_BASE_URL\"] = base_url\n",
    "    freezer = Freezer(app)\n",
    "    freezer.freeze()"
   ]
  }
 ],
 "metadata": {
  "kernelspec": {
   "display_name": "Python 3 (ipykernel)",
   "language": "python",
   "name": "python3"
  },
  "language_info": {
   "codemirror_mode": {
    "name": "ipython",
    "version": 3
   },
   "file_extension": ".py",
   "mimetype": "text/x-python",
   "name": "python",
   "nbconvert_exporter": "python",
   "pygments_lexer": "ipython3",
   "version": "3.9.12"
  }
 },
 "nbformat": 4,
 "nbformat_minor": 5
}
